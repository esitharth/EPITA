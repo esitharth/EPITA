{
  "nbformat": 4,
  "nbformat_minor": 0,
  "metadata": {
    "colab": {
      "name": "PyWeekDay1-Doujana-Sitharth-Ashwini-Faisal-Team20.ipynb",
      "version": "0.3.2",
      "provenance": [],
      "include_colab_link": true
    },
    "language_info": {
      "codemirror_mode": {
        "name": "ipython",
        "version": 3
      },
      "file_extension": ".py",
      "mimetype": "text/x-python",
      "name": "python",
      "nbconvert_exporter": "python",
      "pygments_lexer": "ipython3",
      "version": "3.7.3"
    },
    "kernelspec": {
      "display_name": "Python 3",
      "language": "python",
      "name": "python3"
    }
  },
  "cells": [
    {
      "cell_type": "markdown",
      "metadata": {
        "id": "view-in-github",
        "colab_type": "text"
      },
      "source": [
        "<a href=\"https://colab.research.google.com/github/esitharth/EPITA/blob/master/PyWeekDay1_Doujana_Sitharth_Ashwini_Faisal_Team20.ipynb\" target=\"_parent\"><img src=\"https://colab.research.google.com/assets/colab-badge.svg\" alt=\"Open In Colab\"/></a>"
      ]
    },
    {
      "metadata": {
        "id": "usS7D372b9Hp",
        "colab_type": "text"
      },
      "cell_type": "markdown",
      "source": [
        "# <center> Lab 1: Roots Finding<br> <small> 8 April 2019</small> </center>\n",
        "\n",
        "In many applications we are required to find the roots of equations, that is solve an equation of the form $f(x) = 0$.\n",
        "Note that solving $f(x) = g(x)$ is equivalent to solving $h(x) = 0$, where $h(x) = f(x) - g(x)$.\n",
        "We can easily solve linear equations: $ax + b = 0 \\Longrightarrow x = -b/a$.\n",
        "Also we can solve quadratic equations: $ax^2 + bx + c = 0 \\Longrightarrow x = \\frac{-b \\pm \\sqrt{b^2 - 4ac}}{2a}$.\n",
        "There is a similar formula for cubics, called Cardano's formula, and another one for quartic equations.\n",
        "\n",
        "However one of the great achievements of 19th century mathematics was the proof, by Evariste Galois (1811 - 1832), that there is no similar formula for any polynomial of degree 5 or above.\n",
        "This leads to a problem: How are we to find roots of higher order polynomials?\n",
        "In addition this says nothing about more complex equations than polynomials. For example, Find the roots of $f(x) = x\\ln(x)-3$.\n",
        "\n",
        "The unique solution to find the roots in these cases is to use numerical methods. These approaches use iterative algorithms that converge to the desired solution. This result is an approximation of the exact root."
      ]
    },
    {
      "metadata": {
        "id": "mW85oA-Wb9Hr",
        "colab_type": "text"
      },
      "cell_type": "markdown",
      "source": [
        "# Bisection Method: \n",
        "The bisection method is the simplest of the root finding methods. When given this problem from scratch this is the method that most people come up with.\n",
        "\n",
        "The bisection method relies on the Intermediate Value Theorem:\n",
        "\n",
        "If $f$ is continuous on the closed interval $[a,b]$ and $N$ is any number between $f(a)$ and $f(b)$, then there exists a number $c$ in the open interval $]a,b[$ such that $f(c) = N$.\n",
        "\n",
        "Since the method relies on this theorem it requires that $f$ be continuous on some interval near the root.\n",
        "\n",
        "### Algorithm:\n",
        "\n",
        "Pick $a$ and $b$ such that $f(a)f(b) < 0$ and $f$ is continuous from $a$ to $b$.\n",
        "Repeat:\n",
        "    let $d := \\frac{a+b}{2}$\n",
        "    If $f(a) f(d) < 0$,\n",
        "        Let $b := d.$\n",
        "    Else if $f(b) f(d) > 0$,\n",
        "        Let $a := d$.\n",
        "until $\\|b-a| \\le \\epsilon$\n",
        "\n",
        "Return $\\frac{a+b}{2}$"
      ]
    },
    {
      "metadata": {
        "id": "XhyiMwv_b9Ht",
        "colab_type": "text"
      },
      "cell_type": "markdown",
      "source": [
        "1- Write the function bisect(a, b, ep, max_iterate, f)?"
      ]
    },
    {
      "metadata": {
        "id": "0R2ND88Gb9Hu",
        "colab_type": "code",
        "colab": {}
      },
      "cell_type": "code",
      "source": [
        ""
      ],
      "execution_count": 0,
      "outputs": []
    },
    {
      "metadata": {
        "id": "H_I1Fz4-b9H1",
        "colab_type": "code",
        "colab": {}
      },
      "cell_type": "code",
      "source": [
        ""
      ],
      "execution_count": 0,
      "outputs": []
    },
    {
      "metadata": {
        "id": "JxF415pWb9H6",
        "colab_type": "code",
        "colab": {}
      },
      "cell_type": "code",
      "source": [
        "import math\n",
        "def bisect(a, b, ep, max_iterate, f):\n",
        "\n",
        "    xa = f(a)\n",
        "    xb = f(b)\n",
        "    d = (a+b)/2\n",
        "    iterate = 0\n",
        "    while (abs(xa-xb) > ep and iterate <max_iterate):\n",
        "        d = (a+b)/2\n",
        "        if (xa*xb <0):\n",
        "            b=d; xb=f(b)\n",
        "        else:\n",
        "            a=d; xa=f(a)\n",
        "        iterate = iterate + 1\n",
        "        #print(\"d=\", d, \"xa\", xa, \"xb\", xb, \"itr\", iterate)\n",
        "    return d, iterate\n",
        "\n",
        "\n"
      ],
      "execution_count": 0,
      "outputs": []
    },
    {
      "metadata": {
        "id": "IEUxu9fCb9H-",
        "colab_type": "code",
        "colab": {},
        "outputId": "c7e06e2c-061e-4678-93dc-ad2022a5380b"
      },
      "cell_type": "code",
      "source": [
        "bisect(1, 1.5, 1.0E-6, 100, lambda x: x**6 - x - 1)\n",
        "bisect(1, 1.5, 1.0E-6, 100, lambda x: x - math.exp(-x))"
      ],
      "execution_count": 0,
      "outputs": [
        {
          "output_type": "execute_result",
          "data": {
            "text/plain": [
              "(1.1249999403953552, 23)"
            ]
          },
          "metadata": {
            "tags": []
          },
          "execution_count": 120
        }
      ]
    },
    {
      "metadata": {
        "id": "NLdE8ZWfb9IE",
        "colab_type": "text"
      },
      "cell_type": "markdown",
      "source": [
        "2- Test your function to find the roots of this two functions :\n",
        "\n",
        "- $f(x) = x^6 - x -1$\n",
        "\n",
        "- $f(x) = x - e^{-x}$"
      ]
    },
    {
      "metadata": {
        "id": "qCYS0eFqb9IF",
        "colab_type": "code",
        "colab": {}
      },
      "cell_type": "code",
      "source": [
        ""
      ],
      "execution_count": 0,
      "outputs": []
    },
    {
      "metadata": {
        "id": "TbY9zs9Bb9IJ",
        "colab_type": "text"
      },
      "cell_type": "markdown",
      "source": [
        "# Newton's Method\n",
        "\n",
        "The bisection method is useful only up to a point. In order to get good accuracy we must do a relatively large number of iterations. This is even more of a problem if many roots are to be found. A much better algorithm is Newton's method.\n",
        "\n",
        "The idea of Newton's method is to make an initial guess, $a_0$, close to the root.\n",
        "The point where the tangent line to $f$ at $a_0$ meets the $x$ axis is our next approximation, $a_1$.\n",
        "We then repeat as needed.\n",
        "\n",
        "### Itertive formula:\n",
        "$$ a_{n+1} = a_n - \\frac{f(a)}{f'(a)} $$\n",
        "\n",
        "### Approximation Error\n",
        "\n",
        "The Approximation Error for Newton's method is fairly hard to prove and involves the second derivative of the function $f$.\n",
        "$$E_{n+1} = \\frac{1}{2} g\"(u) E_n^2$$\n",
        "where $u$ is some point between the real root and the approximation and $g(x) = x - \\frac{f(x)}{f'(x)}$.\n",
        "This shows that in Newton's method the error decreases quadratically, rather than linearly as with the Bisection method ($E_{n+1} =\\frac{E_n}{2}$).\n",
        "Unfortunately this error bound is not much use for practical purposes. A much more useful way of estimating the error is that it can be shown that the difference between successive approximations is greater than the error. Thus\n",
        "$E_{n+1} < |a_{n+1} - a_n|$\n",
        "Note that $|a_{n+1} - a_n| = \\left|\\frac{f(a_n)}{f'(a_n)}\\right|$\n",
        "\n",
        "Thus we may continue iterating until the difference between successive approximations, $|a_{n+1} - a_n|$, is less than the required value.\n",
        "\n"
      ]
    },
    {
      "metadata": {
        "id": "afaUnmiJb9IK",
        "colab_type": "text"
      },
      "cell_type": "markdown",
      "source": [
        "1- Write the function newton(a0, errorBd, maxIter, f)?"
      ]
    },
    {
      "metadata": {
        "id": "_vT8yAzCb9IL",
        "colab_type": "code",
        "colab": {}
      },
      "cell_type": "code",
      "source": [
        "#!/usr/bin/python\n",
        "import math\n",
        "\n",
        "def newton(a0, errorBd, maxIter, f, derivf):\n",
        "    '''\n",
        "    This is Newton's method for solving an equation f(x) = 0.\n",
        "\n",
        "    The functions f(x) and derivf(x) are given by the user.\n",
        "    The parameter errorBd is used in the error test for the\n",
        "    accuracy of each iterate. \n",
        "    The parameter maxIter is an upper limit on the number of\n",
        "    iterations to be computed. \n",
        "   \n",
        "    An initial guess a0 must also be given.\n",
        "   \n",
        "    For the given function f(x), an example of a calling sequence\n",
        "    might be the following:\n",
        "    (root, nbIter) = newton(1,1.0E-12,10,lambda x: x**6 - x - 1,\n",
        "    lambda x: 6 * x ** 5 - 1)\n",
        "    '''\n",
        "    \n",
        "    xn = a0\n",
        "    for n in range(0, maxIter):\n",
        "        fxn = f(xn)\n",
        "        if abs(fxn) < errorBd:\n",
        "            print(\"Found solution after\", n, 'iteration.')\n",
        "            return xn, n\n",
        "   \n",
        "        Dfxn = derivf(xn)\n",
        "        if Dfxn == 0:\n",
        "            print('Zero derivative. No solution found.')\n",
        "            return None\n",
        "        xn =xn - fxn/Dfxn\n",
        "    print('Exceeded maximum iterations. No solution found.')\n",
        "    return None "
      ],
      "execution_count": 0,
      "outputs": []
    },
    {
      "metadata": {
        "id": "stO8jeI_b9IP",
        "colab_type": "text"
      },
      "cell_type": "markdown",
      "source": [
        "2- Test your function to find the roots of this two functions :\n",
        "\n",
        "- $f(x) = x^6 - x -1$\n",
        "\n",
        "- $f(x) = x - e^{-x}$"
      ]
    },
    {
      "metadata": {
        "id": "eJ-KLgofb9IQ",
        "colab_type": "code",
        "colab": {},
        "outputId": "43047755-1892-4b34-8f37-4ff4e58fa53f"
      },
      "cell_type": "code",
      "source": [
        "newton(1,1.0E-12,10,lambda x: x- math.exp(-x), lambda x: 1+math.exp(-x))"
      ],
      "execution_count": 0,
      "outputs": [
        {
          "output_type": "stream",
          "text": [
            "Found solution after 4 iteration.\n"
          ],
          "name": "stdout"
        },
        {
          "output_type": "execute_result",
          "data": {
            "text/plain": [
              "(0.5671432904097838, 4)"
            ]
          },
          "metadata": {
            "tags": []
          },
          "execution_count": 204
        }
      ]
    },
    {
      "metadata": {
        "id": "t0xgxS6Yb9IV",
        "colab_type": "text"
      },
      "cell_type": "markdown",
      "source": [
        "# Fixed Point Iteration\n",
        "Newton's method is actually a special case of what is generally known as a fixed point method. These methods rely on the Fixed point Theorem:\n",
        "\n",
        "If $g(x)$ and $g'(x)$ are continuous on an interval containing a root of the equation $g(x) = x$, and if $|g'(x)| < 1$ for all $x$ in the interval then the series $x_{n+1} = g(x_n)$ will converge to the root.\n",
        "\n",
        "In Newton's method we take $g(x) = x - \\frac{f(x)}{f'(x)}. In this case $f(x) = 0$ is equivalent to $g(x) = x$.\n",
        "However we are not restiricted to this choice of $g$.\n",
        "\n",
        "If $c$ is a root of $f$, then $f(c) = 0$. We can manipulate $f$ algebraicaly to produce a function $g$ such that $g(c) = c$ ($c$ is a fixed point of $g$).\n",
        "\n",
        "For example if $f(x) = x^2 - x - 2$, then by solving $f(x) = 0$ in different ways, the following are all possible choices for $g(x)$:\n",
        "- $g(x) = x^2 - 2$,\n",
        "- $g(x) = \\sqrt{2 + x}$,\n",
        "- $g(x) = 1 + \\frac{2}{x}$.\n",
        "- $g(x) = x - (x^2 - x - 2)$.\n",
        "- $g(x) = x - \\frac{x^2 - x - 2}{2x - 1}$.\n",
        "\n",
        "See if you can derive each of these.\n",
        "\n",
        "Provided that $|g'(x)| < 1$ the sequence generated by\n",
        "$$a_{n+1} = g(a_n)$$\n",
        "will converge to the root.\n",
        "\n",
        "### Approximation Error\n",
        "It can be shown that the error of the method is given by\n",
        "$$E_{n+1} = |g'(x)| E_n$$\n",
        "Where $x$ is some point between $a_n$ and the root.\n",
        "\n",
        "The condition that $|g'(x)| < 1$ can be difficult to show, and even more difficult to automate.\n",
        "\n",
        "A much more useful technique is to check if the difference of successive approximations is converging.\n",
        "Thus we test $|a_{n+1} - a_n|$ on each iteration.\n",
        "If $|a_{n} - a_{n-1}| > |a_{n-1} - a_{n-2}| we should abort the iteration."
      ]
    },
    {
      "metadata": {
        "id": "wo6PrcXlb9IW",
        "colab_type": "text"
      },
      "cell_type": "markdown",
      "source": [
        "1- Write the function fixedpoint(a0, errorBd, maxIter, g)?"
      ]
    },
    {
      "metadata": {
        "id": "kQdLf9zwb9IX",
        "colab_type": "code",
        "colab": {}
      },
      "cell_type": "code",
      "source": [
        "from numpy import array,linspace,sqrt,sin\n",
        "from numpy.linalg import norm\n",
        "\n",
        "def fixedpoint(a0, errorBd, maxIter, g):\n",
        "    '''\n",
        "    This implements the fixed point iteration method for solving an\n",
        "    equation g(x) = x. \n",
        "    \n",
        "    The parameter maxIter is an upper limit on the number of iterations \n",
        "    to be computed.\n",
        "    One initial guesses a0 must also be given.\n",
        "    \n",
        "    For the given function g(x), an example of a calling sequence\n",
        "    might be the following:\n",
        "    (root, nbIter) = fixedpoint(1, 1E-3, 6, lambda x: 1 + .3 * sin(x))    \n",
        "    '''\n",
        "    ...\n",
        "    e = 1\n",
        "    itr = 0\n",
        "    xp = []\n",
        "    while(e > errorBd and itr < maxIter):\n",
        "        x = g(a0)      # fixed point equation\n",
        "        e = norm(a0-x) # error at the current step\n",
        "        a0 = x\n",
        "        xp.append(a0)  # save the solution of the current step\n",
        "        itr = itr + 1\n",
        "    return x, itr"
      ],
      "execution_count": 0,
      "outputs": []
    },
    {
      "metadata": {
        "id": "DzqlYOwwb9Id",
        "colab_type": "code",
        "colab": {},
        "outputId": "3cf35caf-edcb-435e-bebc-2e3085b0eb41"
      },
      "cell_type": "code",
      "source": [
        "fixedpoint(1, 1E-3, 6, lambda x: 1 + .3 * sin(x))"
      ],
      "execution_count": 0,
      "outputs": [
        {
          "output_type": "execute_result",
          "data": {
            "text/plain": [
              "(1.2880690105986177, 4)"
            ]
          },
          "metadata": {
            "tags": []
          },
          "execution_count": 82
        }
      ]
    },
    {
      "metadata": {
        "id": "C7EjzQCkb9Ij",
        "colab_type": "text"
      },
      "cell_type": "markdown",
      "source": [
        "# Secant method\n",
        "The secant method requires two initial approximations $a_0$ and $a_1$, preferably both reasonably close to the exact solution. From $a_0$ and $a_1$ we can determine that the points $(a_0, f(a_0))$ and $(a_1, f(a_1))$ both lie on the graph of $f$. Connecting these points gives the (secant) line defined by:\n",
        "$$y − f(a_1) = \\frac{f(a_1) − f(a_0)}{a_1 − a_0} (x − a_0)\n",
        "Since we want f(x) = 0, we set y = 0, solve for x, and use that as our next approximation. \n",
        "\n",
        "Repeating this process gives us the iteration\n",
        "$$a_{n+1} = a_n − \\frac{a_n - a_{n-1}}{f(a_n) - f(a_{n-1})} f(a_n)$$"
      ]
    },
    {
      "metadata": {
        "id": "wC2E8mFib9Il",
        "colab_type": "text"
      },
      "cell_type": "markdown",
      "source": [
        "1- Write the function secant(a0, a1, errorBd, maxIter, f)?"
      ]
    },
    {
      "metadata": {
        "id": "ObNfjx5Kb9Im",
        "colab_type": "code",
        "colab": {}
      },
      "cell_type": "code",
      "source": [
        "def secant(a0, a1, errorBd, maxIter, f):\n",
        "    \n",
        "    '''\n",
        "    This implements the secant method for solving an\n",
        "    equation f(x) = 0.\n",
        "    \n",
        "    The parameter errorBd is used in the error test for the\n",
        "    accuracy of each iterate.  \n",
        "    The parameter maxIter is an upper limit on the number of \n",
        "    iterations to be computed. \n",
        "    Two initial guesses, a0 and a1, must also be given.\n",
        "    \n",
        "    For the given function f(x), an example of a calling sequence\n",
        "    might be the following:\n",
        "     (root, nbIter) = secant(x0, x1, 1E-12, 10, lambda x: x**6 - x - 1)  \n",
        "    '''\n",
        "    \n",
        "    if f(a0)*f(a1) >= 0:\n",
        "        print(\"Secant method fails.\")\n",
        "        return None\n",
        "    a_n = a0\n",
        "    b_n = a1\n",
        "    N= maxIter\n",
        "    for n in range(1,N+1):\n",
        "        m_n = a_n - f(a_n)*(b_n - a_n)/(f(b_n) - f(a_n))\n",
        "        f_m_n = f(m_n)\n",
        "        if f(a_n)*f_m_n < 0:\n",
        "            a_n = a_n\n",
        "            b_n = m_n\n",
        "        elif f(b_n)*f_m_n < 0:\n",
        "            a_n = m_n\n",
        "            b_n = b_n\n",
        "        elif f_m_n == 0:\n",
        "            print(\"Solution found.\")\n",
        "            return m_n, n\n",
        "        else:\n",
        "            print(\"Secant method fails.\")\n",
        "            return None\n",
        "    return a_n - f(a_n)*(b_n - a_n)/(f(b_n) - f(a_n)), n\n",
        "    "
      ],
      "execution_count": 0,
      "outputs": []
    },
    {
      "metadata": {
        "id": "6WiCE0hEb9Ip",
        "colab_type": "code",
        "colab": {},
        "outputId": "f59cb8a5-6466-45f0-98c4-259dc8ae46ad"
      },
      "cell_type": "code",
      "source": [
        "secant(0, 1.5, 1E-12, 100, lambda x: x - math.exp(-x))\n",
        "#secant(0, 1.5, 1E-12, 100, lambda x: x**6 - x - 1)\n"
      ],
      "execution_count": 0,
      "outputs": [
        {
          "output_type": "execute_result",
          "data": {
            "text/plain": [
              "(0.567143290409784, 100)"
            ]
          },
          "metadata": {
            "tags": []
          },
          "execution_count": 207
        }
      ]
    },
    {
      "metadata": {
        "id": "eRvrqwAob9Iu",
        "colab_type": "text"
      },
      "cell_type": "markdown",
      "source": [
        "# Comparison\n",
        "\n",
        "Consider the function $f(x) = x^5 − x^4 + x − 1$:\n",
        "\n",
        "1- Use the Bisection method to approximate the root to within an error tolerance of $10^{−6}$ with the following initial intervals: $[0, 3]$, $[0.5, 2.0]$, $[0.9, 1.2]$. In doing so, make a table of values which includes the approximation, error (what is the true root anyway?), and number of iterations (use a maximum of 100 iterations). Then answer the following questions:\n",
        "\n",
        "   - Why does the second interval need exactly one fewer iteration?\n",
        "\n",
        "   - Is there any advantage to having the root in the center of the interval, or is it better to instead be nearer to an endpoint?"
      ]
    },
    {
      "metadata": {
        "id": "QwnldUKpb9Iv",
        "colab_type": "code",
        "colab": {},
        "outputId": "0b840a19-444d-462e-b422-2de31d5007b3"
      },
      "cell_type": "code",
      "source": [
        "# bisect(1, 1.5, 1.0E-6, 100, lambda x: x**5 - x**4 + x - 1) (1.4999999403953552, 23)\n",
        "# bisect(1, 1.5, 1.0E-6, 100, lambda x: x**5 - x**4 + x - 1) (1.4999999403953552, 23)\n",
        "\n",
        "#bisect(0.9, 1.2, 10**-6, 100,  lambda x: x**5 - x**4 + x - 1) #(0.9749997138977051, 20)\n",
        "#bisect(0.5, 2, 10**-6, 100, lambda x: x**5 - x**4 + x - 1) #(0.8749992847442627, 21)\n",
        "#bisect(0, 3, 10**-6, 100,  lambda x: x**5 - x**4 + x - 1) (0.7499992847442627, 22)\n",
        "#bisect(0,4,10**-6, 100,  lambda x: x**5 - x**4 + x - 1) #(0.9999995231628418, 23)\n",
        "\n",
        "#Ans: 1. Sample space is lesser and hence it requires a fewer iteration. \n",
        "# 2. Since it is 'Bisection' method, it helps to have the root in the center to arrive quicker.\n",
        "#For certain values, bisection is faster because it doesn't depend on the function.\n",
        "\n",
        "    \n"
      ],
      "execution_count": 0,
      "outputs": [
        {
          "output_type": "execute_result",
          "data": {
            "text/plain": [
              "(0.9999995231628418, 23)"
            ]
          },
          "metadata": {
            "tags": []
          },
          "execution_count": 137
        }
      ]
    },
    {
      "metadata": {
        "id": "D2RL6Uvcb9I1",
        "colab_type": "text"
      },
      "cell_type": "markdown",
      "source": [
        "2- Use Newton’s method to approximate the root to within an error tolerance of $10^{−6}$ with the following initial iterates: $−100$, $0$, $.9$, $0.99$, $1.1$, $1.4$, $1000000$. In doing so, make a table of values which includes the approximation, error, and number of iterations. Then answer the following questions:\n",
        "\n",
        "   - How does Newton compare to Bisection for efficiency when the initial iterate is close to the true root?\n",
        "    \n",
        "   - Why are the errors less than $10^{−12}$ if we only asked for $10^{−6}$?\n",
        "    \n",
        "   - Without running Bisection, how many iterations would it take if the interval were $[−1000000, 1000000]$ and $\\epsilon = 1.3 \\times 10^{−12}$? Compare to Newton’s result from $a_0 = 1000000$."
      ]
    },
    {
      "metadata": {
        "id": "R50QB9QOb9I3",
        "colab_type": "code",
        "colab": {},
        "outputId": "65746e6e-6f0c-459f-ceb8-9e25dc489489"
      },
      "cell_type": "code",
      "source": [
        "#newton(-100,10**-6,1000,lambda x: x- math.exp(-x), lambda x: 1+math.exp(-x)) #(0.5671433504344665, 103)\n",
        "#newton(0,10**-6,1000,lambda x: x- math.exp(-x), lambda x: 1+math.exp(-x)) #(0.5671432275473589, 3)\n",
        "#newton(0.9,10**-6,1000,lambda x: x- math.exp(-x), lambda x: 1+math.exp(-x)) #(0.5671433523393155, 3)\n",
        "#newton(0.99,10**-6,1000,lambda x: x- math.exp(-x), lambda x: 1+math.exp(-x)) #(0.5671433492376691, 3)\n",
        "#newton(1.1,10**-6,1000,lambda x: x- math.exp(-x), lambda x: 1+math.exp(-x)) #(0.5671433327566457, 3)\n",
        "#newton(1.4,10**-6,1000,lambda x: x- math.exp(-x), lambda x: 1+math.exp(-x)) #(0.5671428967757058, 3)\n",
        "#newton(1000000,10**-6,1000,lambda x: x- math.exp(-x), lambda x: 1+math.exp(-x)) #(0.5671432275473589, 4)\n",
        "\n",
        "\n",
        "#1. Newton's method is much more efficient when compared to Bisection given the initial iterates closer to the true root.(By observation)\n",
        "#2. Because we are using successive squared approximations while iterating towards the solution\n",
        "#3. Number of iterations that Newton method is 5 whereas secant method takes all the iterations specified in the function while it improves upon the accuracy of the result on each iteration.\n",
        "        #newton(1000000,1.3*10**-12,1000,lambda x: x- math.exp(-x), lambda x: 1+math.exp(-x)) #(0.5671432904097811, 5)\n",
        "        #secant(0.2, 10000, 1.3*10**-12, 10, lambda x: x - math.exp(-x)) (0.5671432904104774, 10)"
      ],
      "execution_count": 0,
      "outputs": [
        {
          "output_type": "execute_result",
          "data": {
            "text/plain": [
              "(0.5671432904104774, 10)"
            ]
          },
          "metadata": {
            "tags": []
          },
          "execution_count": 196
        }
      ]
    },
    {
      "metadata": {
        "id": "Xri6IX4rb9I9",
        "colab_type": "text"
      },
      "cell_type": "markdown",
      "source": [
        "3- Use the Secant method to approximate the root to within an error tolerance of $10^{−6}$ with the following initial iterates: $[a_0, a_1] = [0, 3], [0.5, 2.0], [0.9, 1.2]$. In doing so, make a table of values which includes the approximation, error, and number of iterations. Then answer the following questions:\n",
        "\n",
        "   - How does this method compare to Newton and Bisection for efficiency when the initial iterate is close to the true root?\n",
        "   - Does the distance between the initial iterates affect the number of iterations required as directly as does the size of the initial interval in Bisection?"
      ]
    },
    {
      "metadata": {
        "id": "EVDzxw_Nb9I-",
        "colab_type": "code",
        "colab": {},
        "outputId": "13380c2f-ee67-48ed-ead0-131cad108f80"
      },
      "cell_type": "code",
      "source": [
        "# secant(0, 3, 10**-6, 100, lambda x: x - math.exp(-x)) (0.567143290409784, 100)\n",
        "# secant(0.5, 2.0, 10**-6, 100, lambda x: x - math.exp(-x)) (0.5671432904097838, 9)\n",
        "# secant(0.56, 2.0, 10**-6, 100, lambda x: x - math.exp(-x))\n",
        "# secant(0.9, 1.2, 10**-6, 1000, lambda x: x - math.exp(-x)) Secant method fails because the root is behind the a0.\n",
        "\n",
        "#1. When the initial iterate is closer to the true root Secant method is efficient compared to Bisection but slower  to Newton's.\n",
        "#2. Yes in the secant method the initial range  should be smaller since it needs more iterations to get the result. But where as in Bisect method each iteration range is divided by two so it is faster "
      ],
      "execution_count": 0,
      "outputs": [
        {
          "output_type": "stream",
          "text": [
            "Solution found.\n"
          ],
          "name": "stdout"
        },
        {
          "output_type": "execute_result",
          "data": {
            "text/plain": [
              "(0.5671432904097838, 6)"
            ]
          },
          "metadata": {
            "tags": []
          },
          "execution_count": 128
        }
      ]
    },
    {
      "metadata": {
        "id": "qh5p8eRGb9JG",
        "colab_type": "text"
      },
      "cell_type": "markdown",
      "source": [
        "# Python Functions\n",
        "In Scipy library you can use the function <A Href=https://docs.scipy.org/doc/scipy/reference/generated/scipy.optimize.root_scalar.html#scipy.optimize.root_scalar> root_scalar</A> to find the roots of a function. Read the manual of this function and try to use it to test the result of your implementation."
      ]
    },
    {
      "metadata": {
        "id": "Wu0cFpVVb9JH",
        "colab_type": "code",
        "colab": {},
        "outputId": "ade0b6c3-deaa-4621-f6d9-191f99a6509e"
      },
      "cell_type": "code",
      "source": [
        "from scipy import optimize\n",
        "sol_Newton = optimize.newton(lambda x: x- math.exp(-x), x0=1,  tol=1.0E-12 , maxiter=10)\n",
        "sol_Newton\n",
        "\n",
        "\n",
        "#sol_Secant = optimize.secant(lambda x: x - math.exp(-x),x0=0, x1=1.5, tol=1.0E-12, maxiter=100)\n",
        "sol_Secant = optimize.root_scalar(lambda x: x - math.exp(-x), method='secant', x0=0, x1=1.5, xtol=1.0E-12, maxiter= 10, options={})\n",
        "sol_Secant \n",
        "\n",
        "sol_BiSect = optimize.bisect(lambda x: x**6 - x - 1, 0, 2,xtol=1.0E-6, maxiter=100)\n",
        "sol_BiSect\n",
        "\n",
        "\n"
      ],
      "execution_count": 0,
      "outputs": [
        {
          "output_type": "execute_result",
          "data": {
            "text/plain": [
              "1.1347246170043945"
            ]
          },
          "metadata": {
            "tags": []
          },
          "execution_count": 180
        }
      ]
    },
    {
      "metadata": {
        "id": "mCemC-Lzb9JP",
        "colab_type": "code",
        "colab": {}
      },
      "cell_type": "code",
      "source": [
        ""
      ],
      "execution_count": 0,
      "outputs": []
    }
  ]
}
