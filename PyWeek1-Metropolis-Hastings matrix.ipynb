#Metropolis-Hastings matrix
W = np.zeros((Nodes,Nodes))
for i in range(Nodes):
    for j in range(Nodes):
        if l[i]<l[j] :
            W[i][j]= 1/l[j]
        else:
            W[i][j]= 1/l[i]
tmp = 0
for i in range(Nodes):
    for j in range(Nodes):
        if (i!=j):
            tmp+=W[i][j]
            
    W[i][i]= 1- tmp
    tmp=0

print(W) #Metropolis-Hastings-Matrix

#average consensus
avg_max_degree=0
for i in range(Nodes):
    for j in range(Nodes):
        avg_max_degree+=W[i][j]*l[i]
    
avg_max_degree = avg_max_degree/5    

print("average_Metropolis_Hastings :" ,avg_max_degree)
